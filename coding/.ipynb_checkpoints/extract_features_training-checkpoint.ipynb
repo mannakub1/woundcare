{
 "cells": [
  {
   "cell_type": "code",
   "execution_count": null,
   "metadata": {},
   "outputs": [
    {
     "name": "stdout",
     "output_type": "stream",
     "text": [
      "What's your directory?\n",
      "f g h t\n",
      "start => ../training_data/input/images/f/f2.png\n",
      "contour size -> 1200, inner size -> 1200, outer size -> 1200\n",
      "finished ../training_data/input/traning_data_features_f2.txt\n",
      ">>>>>>>>>>\n",
      "start => ../training_data/input/images/f/f4.png\n",
      "contour size -> 652, inner size -> 652, outer size -> 652\n",
      "finished ../training_data/input/traning_data_features_f4.txt\n",
      ">>>>>>>>>>\n",
      "start => ../training_data/input/images/f/f9.png\n",
      "contour size -> 549, inner size -> 549, outer size -> 549\n",
      "finished ../training_data/input/traning_data_features_f9.txt\n",
      ">>>>>>>>>>\n",
      "start => ../training_data/input/images/f/f7.png\n",
      "contour size -> 890, inner size -> 890, outer size -> 890\n",
      "finished ../training_data/input/traning_data_features_f7.txt\n",
      ">>>>>>>>>>\n",
      "start => ../training_data/input/images/f/f8.png\n",
      "contour size -> 725, inner size -> 725, outer size -> 725\n",
      "finished ../training_data/input/traning_data_features_f8.txt\n",
      ">>>>>>>>>>\n",
      "start => ../training_data/input/images/f/f1.png\n",
      "contour size -> 819, inner size -> 819, outer size -> 819\n",
      "finished ../training_data/input/traning_data_features_f1.txt\n",
      ">>>>>>>>>>\n",
      "start => ../training_data/input/images/f/f6.png\n",
      "contour size -> 527, inner size -> 527, outer size -> 527\n",
      "finished ../training_data/input/traning_data_features_f6.txt\n",
      ">>>>>>>>>>\n",
      "start => ../training_data/input/images/f/f3.png\n",
      "contour size -> 414, inner size -> 414, outer size -> 414\n",
      "finished ../training_data/input/traning_data_features_f3.txt\n",
      ">>>>>>>>>>\n",
      "start => ../training_data/input/images/f/f10.png\n",
      "contour size -> 588, inner size -> 588, outer size -> 588\n",
      "finished ../training_data/input/traning_data_features_f10.txt\n",
      ">>>>>>>>>>\n",
      "start => ../training_data/input/images/f/f5.png\n",
      "contour size -> 392, inner size -> 392, outer size -> 392\n",
      "finished ../training_data/input/traning_data_features_f5.txt\n",
      ">>>>>>>>>>\n",
      "finsihed get features from image to files\n",
      "start => ../training_data/input/images/g/g6.png\n",
      "contour size -> 187, inner size -> 187, outer size -> 187\n",
      "finished ../training_data/input/traning_data_features_g6.txt\n",
      ">>>>>>>>>>\n",
      "start => ../training_data/input/images/g/g4.png\n",
      "contour size -> 399, inner size -> 399, outer size -> 399\n",
      "finished ../training_data/input/traning_data_features_g4.txt\n",
      ">>>>>>>>>>\n",
      "start => ../training_data/input/images/g/g9.png\n",
      "contour size -> 392, inner size -> 392, outer size -> 392\n",
      "finished ../training_data/input/traning_data_features_g9.txt\n",
      ">>>>>>>>>>\n",
      "start => ../training_data/input/images/g/g2.png\n",
      "contour size -> 406, inner size -> 406, outer size -> 406\n",
      "finished ../training_data/input/traning_data_features_g2.txt\n",
      ">>>>>>>>>>\n",
      "start => ../training_data/input/images/g/g7.png\n",
      "contour size -> 383, inner size -> 383, outer size -> 383\n",
      "finished ../training_data/input/traning_data_features_g7.txt\n",
      ">>>>>>>>>>\n",
      "start => ../training_data/input/images/g/g1.png\n",
      "contour size -> 1001, inner size -> 1001, outer size -> 1001\n",
      "finished ../training_data/input/traning_data_features_g1.txt\n",
      ">>>>>>>>>>\n",
      "start => ../training_data/input/images/g/g10.png\n",
      "contour size -> 689, inner size -> 689, outer size -> 689\n",
      "finished ../training_data/input/traning_data_features_g10.txt\n",
      ">>>>>>>>>>\n",
      "start => ../training_data/input/images/g/g3.png\n"
     ]
    }
   ],
   "source": [
    "#extract features of image training data to file training_features_data.txt\n",
    "\n",
    "from get_features_training import GetFeaturesTrainingInFiles\n",
    "input_path = input(\"What's your directory?\\n\").split(' ')\n",
    "f = open(\"../training_data/input/training_features_data.txt\", \"w\")\n",
    "\n",
    "for current_path in input_path :\n",
    "    GetFeaturesTrainingInFiles(current_path).process()"
   ]
  },
  {
   "cell_type": "code",
   "execution_count": null,
   "metadata": {},
   "outputs": [],
   "source": [
    "from process_k_fold import SegmentationFile\n",
    "k = input(\"How many section k flod?\\n\")\n",
    "SegmentationFile(\"../training_data/input/k-fold\", k).process()"
   ]
  },
  {
   "cell_type": "markdown",
   "metadata": {},
   "source": [
    "# "
   ]
  }
 ],
 "metadata": {
  "kernelspec": {
   "display_name": "Python 3",
   "language": "python",
   "name": "python3"
  },
  "language_info": {
   "codemirror_mode": {
    "name": "ipython",
    "version": 3
   },
   "file_extension": ".py",
   "mimetype": "text/x-python",
   "name": "python",
   "nbconvert_exporter": "python",
   "pygments_lexer": "ipython3",
   "version": "3.6.2"
  }
 },
 "nbformat": 4,
 "nbformat_minor": 2
}
