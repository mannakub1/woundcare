{
 "cells": [
  {
   "cell_type": "code",
   "execution_count": 2,
   "metadata": {},
   "outputs": [
    {
     "name": "stdout",
     "output_type": "stream",
     "text": [
      "What's your directory?\n",
      "f\n"
     ]
    }
   ],
   "source": [
    "input_path = input(\"What's your directory?\\n\").split(' ')"
   ]
  },
  {
   "cell_type": "code",
   "execution_count": 3,
   "metadata": {},
   "outputs": [
    {
     "name": "stdout",
     "output_type": "stream",
     "text": [
      "start => ../training_data/input/images/f/f2.png\n",
      "contour size -> 1200, inner size -> 1200, outer size -> 1200\n",
      "finished ../training_data/input/features/f/training_features_dataf2.txt\n",
      ">>>>>>>>>>\n",
      "start => ../training_data/input/images/f/f4.png\n",
      "contour size -> 652, inner size -> 652, outer size -> 652\n",
      "finished ../training_data/input/features/f/training_features_dataf4.txt\n",
      ">>>>>>>>>>\n",
      "start => ../training_data/input/images/f/f9.png\n",
      "contour size -> 549, inner size -> 549, outer size -> 549\n",
      "finished ../training_data/input/features/f/training_features_dataf9.txt\n",
      ">>>>>>>>>>\n",
      "start => ../training_data/input/images/f/f7.png\n",
      "contour size -> 890, inner size -> 890, outer size -> 890\n",
      "finished ../training_data/input/features/f/training_features_dataf7.txt\n",
      ">>>>>>>>>>\n",
      "start => ../training_data/input/images/f/f8.png\n",
      "contour size -> 725, inner size -> 725, outer size -> 725\n",
      "finished ../training_data/input/features/f/training_features_dataf8.txt\n",
      ">>>>>>>>>>\n",
      "start => ../training_data/input/images/f/f1.png\n",
      "contour size -> 819, inner size -> 819, outer size -> 819\n",
      "finished ../training_data/input/features/f/training_features_dataf1.txt\n",
      ">>>>>>>>>>\n",
      "start => ../training_data/input/images/f/f6.png\n",
      "contour size -> 527, inner size -> 527, outer size -> 527\n",
      "finished ../training_data/input/features/f/training_features_dataf6.txt\n",
      ">>>>>>>>>>\n",
      "start => ../training_data/input/images/f/f3.png\n",
      "contour size -> 414, inner size -> 414, outer size -> 414\n",
      "finished ../training_data/input/features/f/training_features_dataf3.txt\n",
      ">>>>>>>>>>\n",
      "start => ../training_data/input/images/f/f10.png\n",
      "contour size -> 588, inner size -> 588, outer size -> 588\n",
      "finished ../training_data/input/features/f/training_features_dataf10.txt\n",
      ">>>>>>>>>>\n",
      "start => ../training_data/input/images/f/f5.png\n",
      "contour size -> 392, inner size -> 392, outer size -> 392\n",
      "finished ../training_data/input/features/f/training_features_dataf5.txt\n",
      ">>>>>>>>>>\n",
      "finsihed get features from image to files\n"
     ]
    }
   ],
   "source": [
    "#extract features of image training data to file training_features_data.txt\n",
    "from get_features_training import GetFeaturesTrainingInFiles\n",
    "# input_path = input(\"What's your directory?\\n\").split(' ')\n",
    "# # f = open(\"../training_data/input/training_features_data.txt\", \"w\")\n",
    "\n",
    "for current_path in input_path :\n",
    "    GetFeaturesTrainingInFiles(current_path).process()"
   ]
  },
  {
   "cell_type": "code",
   "execution_count": 4,
   "metadata": {},
   "outputs": [
    {
     "name": "stdout",
     "output_type": "stream",
     "text": [
      "../training_data/input/features/f/\n",
      "finished process\n"
     ]
    }
   ],
   "source": [
    "#balance training featureds \n",
    "\n",
    "from process_balance_samples import BalanceSample\n",
    "for current_path in input_path :\n",
    "    BalanceSample(current_path).process()"
   ]
  },
  {
   "cell_type": "code",
   "execution_count": 1,
   "metadata": {},
   "outputs": [
    {
     "name": "stdout",
     "output_type": "stream",
     "text": [
      "How many section k flod?\n",
      "10\n",
      "size of samples => 52812\n",
      "1\n",
      "5282\n",
      "5282\n",
      "10563\n",
      "10563\n",
      "15844\n",
      "15844\n",
      "21125\n",
      "21125\n",
      "26406\n",
      "26406\n",
      "31687\n",
      "31687\n",
      "36968\n",
      "36968\n",
      "42249\n",
      "42249\n",
      "47530\n",
      "47530\n",
      "52812\n"
     ]
    }
   ],
   "source": [
    "from process_k_fold import SegmentationFile\n",
    "k = input(\"How many section k flod?\\n\")\n",
    "SegmentationFile(\"../training_data/input/k-fold/\", k).process()"
   ]
  },
  {
   "cell_type": "markdown",
   "metadata": {},
   "source": [
    "# "
   ]
  }
 ],
 "metadata": {
  "kernelspec": {
   "display_name": "Python 3",
   "language": "python",
   "name": "python3"
  },
  "language_info": {
   "codemirror_mode": {
    "name": "ipython",
    "version": 3
   },
   "file_extension": ".py",
   "mimetype": "text/x-python",
   "name": "python",
   "nbconvert_exporter": "python",
   "pygments_lexer": "ipython3",
   "version": "3.6.2"
  }
 },
 "nbformat": 4,
 "nbformat_minor": 2
}
